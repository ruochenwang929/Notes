{
 "cells": [
  {
   "cell_type": "markdown",
   "metadata": {},
   "source": [
    "## Git Notes\n",
    "### 1. Install Git\n",
    "Too lazy to teach you\n",
    "### 2. Initial git\n",
    "Enter a directory, then input: `git init`\n",
    "### 3. Add and Commit\n",
    "`git add filename`  \n",
    "`git commit -m \"your comment\"`\n",
    "### 4. Status and Difference\n",
    "If you want to know which file has been modified, use `git status`  \n",
    "If you want to know the changes, use `git diff`"
   ]
  }
 ],
 "metadata": {
  "kernelspec": {
   "display_name": "Python 3 (ipykernel)",
   "language": "python",
   "name": "python3"
  },
  "language_info": {
   "codemirror_mode": {
    "name": "ipython",
    "version": 3
   },
   "file_extension": ".py",
   "mimetype": "text/x-python",
   "name": "python",
   "nbconvert_exporter": "python",
   "pygments_lexer": "ipython3",
   "version": "3.9.7"
  }
 },
 "nbformat": 4,
 "nbformat_minor": 2
}
